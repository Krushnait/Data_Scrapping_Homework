{
 "cells": [
  {
   "cell_type": "markdown",
   "id": "458a5e37-ce05-4f50-a4d5-050d5babfdca",
   "metadata": {},
   "source": [
    "## Data Scrapping HomeWork"
   ]
  },
  {
   "cell_type": "code",
   "execution_count": 6,
   "id": "230680e4-c2c1-4c48-bb00-96c2a4efe55f",
   "metadata": {},
   "outputs": [
    {
     "name": "stdout",
     "output_type": "stream",
     "text": [
      "Requirement already satisfied: requests in c:\\users\\hp\\anaconda3\\lib\\site-packages (2.32.3)\n",
      "Requirement already satisfied: beautifulsoup4 in c:\\users\\hp\\anaconda3\\lib\\site-packages (4.12.3)\n",
      "Requirement already satisfied: pandas in c:\\users\\hp\\anaconda3\\lib\\site-packages (2.2.2)\n",
      "Requirement already satisfied: charset-normalizer<4,>=2 in c:\\users\\hp\\anaconda3\\lib\\site-packages (from requests) (3.3.2)\n",
      "Requirement already satisfied: idna<4,>=2.5 in c:\\users\\hp\\anaconda3\\lib\\site-packages (from requests) (3.7)\n",
      "Requirement already satisfied: urllib3<3,>=1.21.1 in c:\\users\\hp\\anaconda3\\lib\\site-packages (from requests) (2.2.3)\n",
      "Requirement already satisfied: certifi>=2017.4.17 in c:\\users\\hp\\anaconda3\\lib\\site-packages (from requests) (2024.12.14)\n",
      "Requirement already satisfied: soupsieve>1.2 in c:\\users\\hp\\anaconda3\\lib\\site-packages (from beautifulsoup4) (2.5)\n",
      "Requirement already satisfied: numpy>=1.26.0 in c:\\users\\hp\\anaconda3\\lib\\site-packages (from pandas) (1.26.4)\n",
      "Requirement already satisfied: python-dateutil>=2.8.2 in c:\\users\\hp\\anaconda3\\lib\\site-packages (from pandas) (2.9.0.post0)\n",
      "Requirement already satisfied: pytz>=2020.1 in c:\\users\\hp\\anaconda3\\lib\\site-packages (from pandas) (2024.1)\n",
      "Requirement already satisfied: tzdata>=2022.7 in c:\\users\\hp\\anaconda3\\lib\\site-packages (from pandas) (2023.3)\n",
      "Requirement already satisfied: six>=1.5 in c:\\users\\hp\\anaconda3\\lib\\site-packages (from python-dateutil>=2.8.2->pandas) (1.16.0)\n",
      "Note: you may need to restart the kernel to use updated packages.\n"
     ]
    }
   ],
   "source": [
    "pip install requests beautifulsoup4 pandas"
   ]
  },
  {
   "cell_type": "code",
   "execution_count": 7,
   "id": "6a9bcb2f-d399-4b7a-931b-9368e545f7f8",
   "metadata": {},
   "outputs": [],
   "source": [
    "import requests\n",
    "\n",
    "url = \"https://en.wikipedia.org/wiki/List_of_active_Indian_military_aircraft\"\n",
    "\n",
    "# Request the page\n",
    "headers = {\n",
    "    'User-Agent': 'Mozilla/5.0 (Windows NT 10.0; Win64; x64) AppleWebKit/537.36 (KHTML, like Gecko) Chrome/91.0.4472.124 Safari/537.36'\n",
    "}\n",
    "response = requests.get(url, headers=headers)\n",
    "\n"
   ]
  },
  {
   "cell_type": "code",
   "execution_count": 9,
   "id": "bb8dddc2-40b5-4add-88d2-ac103ee208b5",
   "metadata": {},
   "outputs": [
    {
     "data": {
      "text/plain": [
       "<Response [200]>"
      ]
     },
     "execution_count": 9,
     "metadata": {},
     "output_type": "execute_result"
    }
   ],
   "source": [
    "# Check if the request was successful\n",
    "response  #status_code == 200:\"Page fetched successfully!\"\n",
    "   "
   ]
  },
  {
   "cell_type": "code",
   "execution_count": 10,
   "id": "3ae2d394-6889-4bad-afdb-01a722c5f35a",
   "metadata": {},
   "outputs": [],
   "source": [
    "from bs4 import BeautifulSoup\n",
    "\n",
    "# Parse the page content\n",
    "soup = BeautifulSoup(response.content, 'html.parser')\n",
    "\n",
    "# Find the table with the class 'wikitable'\n",
    "table = soup.find('table', {'class': 'wikitable'})"
   ]
  },
  {
   "cell_type": "code",
   "execution_count": 12,
   "id": "56b547fe-0c31-49d4-8f13-3c2a32aebe4c",
   "metadata": {},
   "outputs": [
    {
     "name": "stdout",
     "output_type": "stream",
     "text": [
      "        Aircraft Type       Role        Origin  \\\n",
      "0     Dassault Rafale  Multirole        France   \n",
      "1           HAL Tejas  Multirole         India   \n",
      "2  Conversion trainer    4[4][5]  Mk.1 Trainer   \n",
      "3           Multirole                    Mk.1A   \n",
      "4     Sukhoi Su-30MKI  Multirole        Russia   \n",
      "\n",
      "                                 Quantity  \n",
      "0                                      DH  \n",
      "1                                    Mk.1  \n",
      "2  Used for training; 14 more on order[6]  \n",
      "3     73 on order, 97 more approved[6][7]  \n",
      "4                      Su-30MKI Flanker H  \n"
     ]
    }
   ],
   "source": [
    "import pandas as pd\n",
    "\n",
    "# Initialize lists to store the extracted data\n",
    "aircraft_types = []\n",
    "roles = []\n",
    "origins = []\n",
    "quantities = []\n",
    "\n",
    "# Loop through table rows\n",
    "for row in table.find_all('tr')[1:]:  # Skip the header row\n",
    "    cells = row.find_all('td')  # Get all cells in the row\n",
    "    if len(cells) > 3:  # Ensure the row contains enough data\n",
    "        aircraft_types.append(cells[0].text.strip())  # Aircraft type\n",
    "        origins.append(cells[1].text.strip())  # Origin\n",
    "        roles.append(cells[2].text.strip())  # Role\n",
    "        quantities.append(cells[3].text.strip())  # Quantity\n",
    "\n",
    "# Create a DataFrame\n",
    "df = pd.DataFrame({\n",
    "    'Aircraft Type': aircraft_types,\n",
    "    'Role': roles,\n",
    "    'Origin': origins,\n",
    "    'Quantity': quantities\n",
    "})\n",
    "\n",
    "# Display the DataFrame\n",
    "print(df.head())"
   ]
  },
  {
   "cell_type": "code",
   "execution_count": 13,
   "id": "f546f408-a5a1-46c5-8d3e-550e93719371",
   "metadata": {},
   "outputs": [
    {
     "name": "stdout",
     "output_type": "stream",
     "text": [
      "Data saved to 'indian_military_aircraft.csv'\n"
     ]
    }
   ],
   "source": [
    "# Save the DataFrame to a CSV file\n",
    "df.to_csv('indian_military_aircraft.csv', index=False)\n",
    "print(\"Data saved to 'indian_military_aircraft.csv'\")"
   ]
  },
  {
   "cell_type": "code",
   "execution_count": null,
   "id": "a5856d81-488c-467c-8131-cefecfe57cca",
   "metadata": {},
   "outputs": [],
   "source": []
  },
  {
   "cell_type": "code",
   "execution_count": null,
   "id": "d7a9254c-dc98-4468-93db-c330e0bee36e",
   "metadata": {},
   "outputs": [],
   "source": []
  },
  {
   "cell_type": "code",
   "execution_count": null,
   "id": "59f88b20-b9e2-4c62-b2fd-56a2f9129cf3",
   "metadata": {},
   "outputs": [],
   "source": []
  },
  {
   "cell_type": "code",
   "execution_count": null,
   "id": "0fed28b3-eafe-4391-9b02-7088cced3c5c",
   "metadata": {},
   "outputs": [],
   "source": []
  },
  {
   "cell_type": "code",
   "execution_count": null,
   "id": "db09cbfd-e2d0-44e7-a659-9a035be38446",
   "metadata": {},
   "outputs": [],
   "source": []
  }
 ],
 "metadata": {
  "kernelspec": {
   "display_name": "Python 3 (ipykernel)",
   "language": "python",
   "name": "python3"
  },
  "language_info": {
   "codemirror_mode": {
    "name": "ipython",
    "version": 3
   },
   "file_extension": ".py",
   "mimetype": "text/x-python",
   "name": "python",
   "nbconvert_exporter": "python",
   "pygments_lexer": "ipython3",
   "version": "3.12.7"
  }
 },
 "nbformat": 4,
 "nbformat_minor": 5
}
